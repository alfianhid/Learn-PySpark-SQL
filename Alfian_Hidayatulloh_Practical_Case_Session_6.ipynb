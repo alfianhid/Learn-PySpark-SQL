{
  "nbformat": 4,
  "nbformat_minor": 0,
  "metadata": {
    "colab": {
      "provenance": []
    },
    "kernelspec": {
      "name": "python3",
      "display_name": "Python 3"
    },
    "language_info": {
      "name": "python"
    }
  },
  "cells": [
    {
      "cell_type": "code",
      "execution_count": null,
      "metadata": {
        "colab": {
          "base_uri": "https://localhost:8080/"
        },
        "id": "pnZWZiw7DM98",
        "outputId": "d5758886-a1b0-40d6-c745-c506cdaa36f4"
      },
      "outputs": [
        {
          "output_type": "stream",
          "name": "stdout",
          "text": [
            "Mounted at /content/drive\n"
          ]
        }
      ],
      "source": [
        "# Mount to Google Drive\n",
        "from google.colab import drive\n",
        "drive.mount('/content/drive')"
      ]
    },
    {
      "cell_type": "code",
      "source": [
        "# Installing PySpark\n",
        "!pip install pyspark"
      ],
      "metadata": {
        "colab": {
          "base_uri": "https://localhost:8080/"
        },
        "id": "Zs6i9WwpGbvM",
        "outputId": "641c8ab6-fbe8-43f9-ada5-1a75c0fb300a"
      },
      "execution_count": null,
      "outputs": [
        {
          "output_type": "stream",
          "name": "stdout",
          "text": [
            "Looking in indexes: https://pypi.org/simple, https://us-python.pkg.dev/colab-wheels/public/simple/\n",
            "Collecting pyspark\n",
            "  Downloading pyspark-3.3.0.tar.gz (281.3 MB)\n",
            "\u001b[K     |████████████████████████████████| 281.3 MB 41 kB/s \n",
            "\u001b[?25hCollecting py4j==0.10.9.5\n",
            "  Downloading py4j-0.10.9.5-py2.py3-none-any.whl (199 kB)\n",
            "\u001b[K     |████████████████████████████████| 199 kB 55.4 MB/s \n",
            "\u001b[?25hBuilding wheels for collected packages: pyspark\n",
            "  Building wheel for pyspark (setup.py) ... \u001b[?25l\u001b[?25hdone\n",
            "  Created wheel for pyspark: filename=pyspark-3.3.0-py2.py3-none-any.whl size=281764026 sha256=a53b4f8a059a64841b249fdac65e7db797a27c291c8fb6b11d81f0bdadf2f0e3\n",
            "  Stored in directory: /root/.cache/pip/wheels/7a/8e/1b/f73a52650d2e5f337708d9f6a1750d451a7349a867f928b885\n",
            "Successfully built pyspark\n",
            "Installing collected packages: py4j, pyspark\n",
            "Successfully installed py4j-0.10.9.5 pyspark-3.3.0\n"
          ]
        }
      ]
    },
    {
      "cell_type": "code",
      "source": [
        "# Initialize Spark Session\n",
        "import pyspark\n",
        "from pyspark.sql import SparkSession\n",
        "from pyspark.conf import SparkConf\n",
        "from pyspark.context import SparkContext\n",
        "\n",
        "credentials_location = '/content/drive/MyDrive/practical-case-session-6/data-fellowship-batch-7-9a47d25ff887.json'\n",
        "\n",
        "conf = SparkConf() \\\n",
        "    .setMaster('local[*]') \\\n",
        "    .setAppName('Colab') \\\n",
        "    .set(\"spark.jars\", \"./lib/gcs-connector-hadoop3-2.2.5.jar\") \\\n",
        "    .set(\"spark.hadoop.google.cloud.auth.service.account.enable\", \"true\") \\\n",
        "    .set(\"spark.hadoop.google.cloud.auth.service.account.json.keyfile\", credentials_location)"
      ],
      "metadata": {
        "id": "DhZKN3i8GyWp"
      },
      "execution_count": null,
      "outputs": []
    },
    {
      "cell_type": "code",
      "source": [
        "sc = SparkContext(conf=conf)\n",
        "spark = SparkSession.builder \\\n",
        "    .config(conf=sc.getConf()) \\\n",
        "    .getOrCreate()\n",
        "\n",
        "# Print Spark Session\n",
        "spark"
      ],
      "metadata": {
        "colab": {
          "base_uri": "https://localhost:8080/",
          "height": 219
        },
        "id": "cMSzKPEoG8f-",
        "outputId": "fd9d7e2b-1055-48c6-9ca3-5c1bd50712fe"
      },
      "execution_count": null,
      "outputs": [
        {
          "output_type": "execute_result",
          "data": {
            "text/plain": [
              "<pyspark.sql.session.SparkSession at 0x7fea0fb55350>"
            ],
            "text/html": [
              "\n",
              "            <div>\n",
              "                <p><b>SparkSession - in-memory</b></p>\n",
              "                \n",
              "        <div>\n",
              "            <p><b>SparkContext</b></p>\n",
              "\n",
              "            <p><a href=\"http://fdd75e0c0bdf:4050\">Spark UI</a></p>\n",
              "\n",
              "            <dl>\n",
              "              <dt>Version</dt>\n",
              "                <dd><code>v3.3.0</code></dd>\n",
              "              <dt>Master</dt>\n",
              "                <dd><code>local</code></dd>\n",
              "              <dt>AppName</dt>\n",
              "                <dd><code>Colab</code></dd>\n",
              "            </dl>\n",
              "        </div>\n",
              "        \n",
              "            </div>\n",
              "        "
            ]
          },
          "metadata": {},
          "execution_count": 63
        }
      ]
    },
    {
      "cell_type": "code",
      "source": [
        "%%writefile parsing.py\n",
        "import argparse\n",
        "from pyspark.sql import functions as F\n",
        "\n",
        "parser = argparse.ArgumentParser()\n",
        "\n",
        "parser.add_argument('--output', required=True)\n",
        "\n",
        "args = parser.parse_args()\n",
        "\n",
        "output = args.output"
      ],
      "metadata": {
        "colab": {
          "base_uri": "https://localhost:8080/"
        },
        "id": "TyA8kxEAdXA7",
        "outputId": "5af81895-3627-4015-bdfb-9369fe967cbf"
      },
      "execution_count": null,
      "outputs": [
        {
          "output_type": "stream",
          "name": "stdout",
          "text": [
            "Writing parsing.py\n"
          ]
        }
      ]
    },
    {
      "cell_type": "code",
      "source": [
        "# Read Yellow Trip Data\n",
        "df1 = spark.read.parquet(\"/content/drive/MyDrive/practical-case-session-6/yellow_tripdata_2021-02.parquet\")\n",
        "df1.show(5)"
      ],
      "metadata": {
        "colab": {
          "base_uri": "https://localhost:8080/"
        },
        "id": "q8KSM6g7HTI-",
        "outputId": "ee691b75-067a-4f4a-9362-992adf1a4781"
      },
      "execution_count": null,
      "outputs": [
        {
          "output_type": "stream",
          "name": "stdout",
          "text": [
            "+--------+--------------------+---------------------+---------------+-------------+----------+------------------+------------+------------+------------+-----------+-----+-------+----------+------------+---------------------+------------+--------------------+-----------+\n",
            "|VendorID|tpep_pickup_datetime|tpep_dropoff_datetime|passenger_count|trip_distance|RatecodeID|store_and_fwd_flag|PULocationID|DOLocationID|payment_type|fare_amount|extra|mta_tax|tip_amount|tolls_amount|improvement_surcharge|total_amount|congestion_surcharge|airport_fee|\n",
            "+--------+--------------------+---------------------+---------------+-------------+----------+------------------+------------+------------+------------+-----------+-----+-------+----------+------------+---------------------+------------+--------------------+-----------+\n",
            "|       1| 2021-02-01 00:40:47|  2021-02-01 00:48:28|            1.0|          2.3|       1.0|                 N|         141|         226|           2|        8.5|  3.0|    0.5|       0.0|         0.0|                  0.3|        12.3|                 2.5|       null|\n",
            "|       1| 2021-02-01 00:07:44|  2021-02-01 00:20:31|            1.0|          1.6|       1.0|                 N|          43|         263|           2|        9.5|  3.0|    0.5|       0.0|         0.0|                  0.3|        13.3|                 0.0|       null|\n",
            "|       1| 2021-02-01 00:59:36|  2021-02-01 01:24:13|            1.0|          5.3|       1.0|                 N|         114|         263|           2|       19.0|  3.0|    0.5|       0.0|         0.0|                  0.3|        22.8|                 2.5|       null|\n",
            "|       2| 2021-02-01 00:03:26|  2021-02-01 00:16:32|            1.0|         2.79|       1.0|                 N|         236|         229|           1|       11.0|  0.5|    0.5|      2.96|         0.0|                  0.3|       17.76|                 2.5|       null|\n",
            "|       2| 2021-02-01 00:20:20|  2021-02-01 00:24:03|            2.0|         0.64|       1.0|                 N|         229|         140|           1|        4.5|  0.5|    0.5|      1.66|         0.0|                  0.3|        9.96|                 2.5|       null|\n",
            "+--------+--------------------+---------------------+---------------+-------------+----------+------------------+------------+------------+------------+-----------+-----+-------+----------+------------+---------------------+------------+--------------------+-----------+\n",
            "only showing top 5 rows\n",
            "\n"
          ]
        }
      ]
    },
    {
      "cell_type": "code",
      "source": [
        "# Read Green Trip Data\n",
        "df2 = spark.read.parquet(\"/content/drive/MyDrive/practical-case-session-6/green_tripdata_2021-02.parquet\")\n",
        "df2.show(5)"
      ],
      "metadata": {
        "colab": {
          "base_uri": "https://localhost:8080/"
        },
        "id": "x76b0uSDIHI6",
        "outputId": "714bebab-9eef-4cec-f932-9b18823ed8ce"
      },
      "execution_count": null,
      "outputs": [
        {
          "output_type": "stream",
          "name": "stdout",
          "text": [
            "+--------+--------------------+---------------------+------------------+----------+------------+------------+---------------+-------------+-----------+-----+-------+----------+------------+---------+---------------------+------------+------------+---------+--------------------+\n",
            "|VendorID|lpep_pickup_datetime|lpep_dropoff_datetime|store_and_fwd_flag|RatecodeID|PULocationID|DOLocationID|passenger_count|trip_distance|fare_amount|extra|mta_tax|tip_amount|tolls_amount|ehail_fee|improvement_surcharge|total_amount|payment_type|trip_type|congestion_surcharge|\n",
            "+--------+--------------------+---------------------+------------------+----------+------------+------------+---------------+-------------+-----------+-----+-------+----------+------------+---------+---------------------+------------+------------+---------+--------------------+\n",
            "|       2| 2021-02-01 00:34:03|  2021-02-01 00:51:58|                 N|       1.0|         130|         205|            5.0|         3.66|       14.0|  0.5|    0.5|      10.0|         0.0|     null|                  0.3|        25.3|         1.0|      1.0|                 0.0|\n",
            "|       2| 2021-02-01 00:04:00|  2021-02-01 00:10:30|                 N|       1.0|         152|         244|            1.0|          1.1|        6.5|  0.5|    0.5|       0.0|         0.0|     null|                  0.3|         7.8|         2.0|      1.0|                 0.0|\n",
            "|       2| 2021-02-01 00:18:51|  2021-02-01 00:34:06|                 N|       1.0|         152|          48|            1.0|         4.93|       16.5|  0.5|    0.5|       0.0|         0.0|     null|                  0.3|       20.55|         2.0|      1.0|                2.75|\n",
            "|       2| 2021-02-01 00:53:27|  2021-02-01 01:11:41|                 N|       1.0|         152|         241|            1.0|          6.7|       21.0|  0.5|    0.5|       0.0|         0.0|     null|                  0.3|        22.3|         2.0|      1.0|                 0.0|\n",
            "|       2| 2021-02-01 00:57:46|  2021-02-01 01:06:44|                 N|       1.0|          75|          42|            1.0|         1.89|        8.5|  0.5|    0.5|      2.45|         0.0|     null|                  0.3|       12.25|         1.0|      1.0|                 0.0|\n",
            "+--------+--------------------+---------------------+------------------+----------+------------+------------+---------------+-------------+-----------+-----+-------+----------+------------+---------+---------------------+------------+------------+---------+--------------------+\n",
            "only showing top 5 rows\n",
            "\n"
          ]
        }
      ]
    },
    {
      "cell_type": "code",
      "source": [
        "# Read FHV Trip Data\n",
        "df3 = spark.read.parquet(\"/content/drive/MyDrive/practical-case-session-6/fhv_tripdata_2021-02.parquet\")\n",
        "df3.show(5)"
      ],
      "metadata": {
        "colab": {
          "base_uri": "https://localhost:8080/"
        },
        "id": "QnwIAVALIN36",
        "outputId": "fbbd930f-58d1-4e97-b8f7-e4aef62cc38a"
      },
      "execution_count": null,
      "outputs": [
        {
          "output_type": "stream",
          "name": "stdout",
          "text": [
            "+--------------------+-------------------+-------------------+------------+------------+-------+----------------------+\n",
            "|dispatching_base_num|    pickup_datetime|   dropOff_datetime|PUlocationID|DOlocationID|SR_Flag|Affiliated_base_number|\n",
            "+--------------------+-------------------+-------------------+------------+------------+-------+----------------------+\n",
            "|              B00013|2021-02-01 00:01:00|2021-02-01 01:33:00|        null|        null|   null|                B00014|\n",
            "|     B00021         |2021-02-01 00:55:40|2021-02-01 01:06:20|       173.0|        82.0|   null|       B00021         |\n",
            "|     B00021         |2021-02-01 00:14:03|2021-02-01 00:28:37|       173.0|        56.0|   null|       B00021         |\n",
            "|     B00021         |2021-02-01 00:27:48|2021-02-01 00:35:45|        82.0|       129.0|   null|       B00021         |\n",
            "|              B00037|2021-02-01 00:12:50|2021-02-01 00:26:38|        null|       225.0|   null|                B00037|\n",
            "+--------------------+-------------------+-------------------+------------+------------+-------+----------------------+\n",
            "only showing top 5 rows\n",
            "\n"
          ]
        }
      ]
    },
    {
      "cell_type": "code",
      "source": [
        "# Read FHVHV Trip Data\n",
        "df4 = spark.read.parquet(\"/content/drive/MyDrive/practical-case-session-6/fhvhv_tripdata_2021-02.parquet\")\n",
        "df4.show(5)"
      ],
      "metadata": {
        "colab": {
          "base_uri": "https://localhost:8080/"
        },
        "id": "BTKGyFxlIX2_",
        "outputId": "91f5116b-5b8b-41a6-c7e8-e4fd29875e75"
      },
      "execution_count": null,
      "outputs": [
        {
          "output_type": "stream",
          "name": "stdout",
          "text": [
            "+-----------------+--------------------+--------------------+-------------------+-------------------+-------------------+-------------------+------------+------------+----------+---------+-------------------+-----+----+---------+--------------------+-----------+----+----------+-------------------+-----------------+------------------+----------------+--------------+\n",
            "|hvfhs_license_num|dispatching_base_num|originating_base_num|   request_datetime|  on_scene_datetime|    pickup_datetime|   dropoff_datetime|PULocationID|DOLocationID|trip_miles|trip_time|base_passenger_fare|tolls| bcf|sales_tax|congestion_surcharge|airport_fee|tips|driver_pay|shared_request_flag|shared_match_flag|access_a_ride_flag|wav_request_flag|wav_match_flag|\n",
            "+-----------------+--------------------+--------------------+-------------------+-------------------+-------------------+-------------------+------------+------------+----------+---------+-------------------+-----+----+---------+--------------------+-----------+----+----------+-------------------+-----------------+------------------+----------------+--------------+\n",
            "|           HV0003|              B02764|              B02764|2021-01-31 23:59:00|2021-02-01 00:10:19|2021-02-01 00:10:40|2021-02-01 00:21:09|          35|          39|      2.06|      629|              17.14|  0.0|0.51|     1.52|                 0.0|       null| 0.0|      9.79|                  N|                N|                  |               N|             N|\n",
            "|           HV0003|              B02764|              B02764|2021-02-01 00:13:35|2021-02-01 00:25:23|2021-02-01 00:27:23|2021-02-01 00:44:01|          39|          35|      3.15|      998|              32.11|  0.0|0.96|     2.85|                 0.0|       null| 0.0|     24.01|                  N|                N|                  |               N|             N|\n",
            "|           HV0005|              B02510|                null|2021-02-01 00:12:55|               null|2021-02-01 00:28:38|2021-02-01 00:38:27|          39|          91|     1.776|      589|              12.67|  0.0|0.38|     1.12|                 0.0|       null| 0.0|      6.91|                  N|                N|                 N|               N|             N|\n",
            "|           HV0005|              B02510|                null|2021-02-01 00:36:01|               null|2021-02-01 00:43:37|2021-02-01 01:23:20|          91|         228|    13.599|     2383|              37.82|  0.0|0.98|     2.91|                 0.0|       null| 7.0|     35.05|                  N|                N|                 N|               N|             N|\n",
            "|           HV0003|              B02872|              B02872|2021-01-31 23:57:50|2021-02-01 00:08:25|2021-02-01 00:08:42|2021-02-01 00:17:57|         126|         250|      2.62|      555|              15.56|  0.0|0.47|     1.38|                 0.0|       null| 0.0|      8.53|                  N|                N|                  |               N|             N|\n",
            "+-----------------+--------------------+--------------------+-------------------+-------------------+-------------------+-------------------+------------+------------+----------+---------+-------------------+-----+----+---------+--------------------+-----------+----+----------+-------------------+-----------------+------------------+----------------+--------------+\n",
            "only showing top 5 rows\n",
            "\n"
          ]
        }
      ]
    },
    {
      "cell_type": "code",
      "source": [
        "# 1. How many taxi trips were there on February 15?\n",
        "df1.createOrReplaceTempView(\"yellow_tripdata\")\n",
        "\n",
        "count_yellow_taxi_trip_15_feb = spark.sql(\"SELECT COUNT(*) AS count_yellow_taxi_trip_15_feb FROM yellow_tripdata WHERE tpep_pickup_datetime BETWEEN '2021-02-15 00:00:00' AND '2021-02-15 23:59:59'\")\n",
        "count_yellow_taxi_trip_15_feb.show()\n",
        "count_yellow_taxi_trip_15_feb.printSchema()"
      ],
      "metadata": {
        "colab": {
          "base_uri": "https://localhost:8080/"
        },
        "id": "BqMWAhPYIoni",
        "outputId": "319a6fa5-d076-4902-9994-eb3e93b8580c"
      },
      "execution_count": null,
      "outputs": [
        {
          "output_type": "stream",
          "name": "stdout",
          "text": [
            "+-----------------------------+\n",
            "|count_yellow_taxi_trip_15_feb|\n",
            "+-----------------------------+\n",
            "|                        40322|\n",
            "+-----------------------------+\n",
            "\n",
            "root\n",
            " |-- count_yellow_taxi_trip_15_feb: long (nullable = false)\n",
            "\n"
          ]
        }
      ]
    },
    {
      "cell_type": "code",
      "source": [
        "# 2. Find the longest trip for each day?\n",
        "find_longest_trip_monday = spark.sql(\" SELECT MAX(trip_distance) AS find_longest_trip_monday FROM yellow_tripdata \\\n",
        "WHERE ( tpep_pickup_datetime BETWEEN '2021-02-01 00:00:00' AND '2021-02-01 23:59:59' ) OR \\\n",
        "( tpep_pickup_datetime BETWEEN '2021-02-08 00:00:00' AND '2021-02-08 23:59:59' ) OR \\\n",
        "( tpep_pickup_datetime BETWEEN '2021-02-15 00:00:00' AND '2021-02-15 23:59:59' ) OR \\\n",
        "( tpep_pickup_datetime BETWEEN '2021-02-22 00:00:00' AND '2021-02-22 23:59:59' )\")\n",
        "find_longest_trip_monday.show()\n",
        "find_longest_trip_monday.printSchema()"
      ],
      "metadata": {
        "colab": {
          "base_uri": "https://localhost:8080/"
        },
        "id": "o2LsoJ6POMEC",
        "outputId": "49960841-3c72-4865-f8c5-95ab5036c987"
      },
      "execution_count": null,
      "outputs": [
        {
          "output_type": "stream",
          "name": "stdout",
          "text": [
            "+------------------------+\n",
            "|find_longest_trip_monday|\n",
            "+------------------------+\n",
            "|               186617.92|\n",
            "+------------------------+\n",
            "\n",
            "root\n",
            " |-- find_longest_trip_monday: double (nullable = true)\n",
            "\n"
          ]
        }
      ]
    },
    {
      "cell_type": "code",
      "source": [
        "find_longest_trip_tuesday = spark.sql(\"SELECT MAX(trip_distance) AS find_longest_trip_tuesday FROM yellow_tripdata \\\n",
        "WHERE ( tpep_pickup_datetime BETWEEN '2021-02-02 00:00:00' AND '2021-02-02 23:59:59' ) OR \\\n",
        "( tpep_pickup_datetime BETWEEN '2021-02-09 00:00:00' AND '2021-02-09 23:59:59' ) OR \\\n",
        "( tpep_pickup_datetime BETWEEN '2021-02-16 00:00:00' AND '2021-02-16 23:59:59' ) OR \\\n",
        "( tpep_pickup_datetime BETWEEN '2021-02-23 00:00:00' AND '2021-02-23 23:59:59' )\")\n",
        "find_longest_trip_tuesday.show()\n",
        "find_longest_trip_tuesday.printSchema()"
      ],
      "metadata": {
        "colab": {
          "base_uri": "https://localhost:8080/"
        },
        "id": "mEhMuZutrsM3",
        "outputId": "b819a95d-a9b7-4a84-dc6e-f48827901c86"
      },
      "execution_count": null,
      "outputs": [
        {
          "output_type": "stream",
          "name": "stdout",
          "text": [
            "+-------------------------+\n",
            "|find_longest_trip_tuesday|\n",
            "+-------------------------+\n",
            "|                221188.25|\n",
            "+-------------------------+\n",
            "\n",
            "root\n",
            " |-- find_longest_trip_tuesday: double (nullable = true)\n",
            "\n"
          ]
        }
      ]
    },
    {
      "cell_type": "code",
      "source": [
        "find_longest_trip_wednesday = spark.sql(\"SELECT MAX(trip_distance) AS find_longest_trip_wednesday FROM yellow_tripdata \\\n",
        "WHERE ( tpep_pickup_datetime BETWEEN '2021-02-03 00:00:00' AND '2021-02-03 23:59:59' ) OR \\\n",
        "( tpep_pickup_datetime BETWEEN '2021-02-10 00:00:00' AND '2021-02-10 23:59:59' ) OR \\\n",
        "( tpep_pickup_datetime BETWEEN '2021-02-17 00:00:00' AND '2021-02-17 23:59:59' ) OR \\\n",
        "( tpep_pickup_datetime BETWEEN '2021-02-24 00:00:00' AND '2021-02-24 23:59:59' )\")\n",
        "find_longest_trip_wednesday.show()\n",
        "find_longest_trip_wednesday.printSchema()"
      ],
      "metadata": {
        "colab": {
          "base_uri": "https://localhost:8080/"
        },
        "id": "eomu15JfrEkm",
        "outputId": "083bae67-8fd6-4dbb-a648-929b3b573b9c"
      },
      "execution_count": null,
      "outputs": [
        {
          "output_type": "stream",
          "name": "stdout",
          "text": [
            "+---------------------------+\n",
            "|find_longest_trip_wednesday|\n",
            "+---------------------------+\n",
            "|                  186079.73|\n",
            "+---------------------------+\n",
            "\n",
            "root\n",
            " |-- find_longest_trip_wednesday: double (nullable = true)\n",
            "\n"
          ]
        }
      ]
    },
    {
      "cell_type": "code",
      "source": [
        "find_longest_trip_thursday = spark.sql(\"SELECT MAX(trip_distance) AS find_longest_trip_thursday FROM yellow_tripdata \\\n",
        "WHERE ( tpep_pickup_datetime BETWEEN '2021-02-04 00:00:00' AND '2021-02-04 23:59:59' ) OR \\\n",
        "( tpep_pickup_datetime BETWEEN '2021-02-11 00:00:00' AND '2021-02-11 23:59:59' ) OR \\\n",
        "( tpep_pickup_datetime BETWEEN '2021-02-18 00:00:00' AND '2021-02-18 23:59:59' ) OR \\\n",
        "( tpep_pickup_datetime BETWEEN '2021-02-25 00:00:00' AND '2021-02-25 23:59:59' )\")\n",
        "find_longest_trip_thursday.show()\n",
        "find_longest_trip_thursday.printSchema()"
      ],
      "metadata": {
        "colab": {
          "base_uri": "https://localhost:8080/"
        },
        "id": "FXREP-IHrk6l",
        "outputId": "009c1087-018c-41d6-bed0-405643e5edb0"
      },
      "execution_count": null,
      "outputs": [
        {
          "output_type": "stream",
          "name": "stdout",
          "text": [
            "+--------------------------+\n",
            "|find_longest_trip_thursday|\n",
            "+--------------------------+\n",
            "|                     82.19|\n",
            "+--------------------------+\n",
            "\n",
            "root\n",
            " |-- find_longest_trip_thursday: double (nullable = true)\n",
            "\n"
          ]
        }
      ]
    },
    {
      "cell_type": "code",
      "source": [
        "find_longest_trip_friday = spark.sql(\"SELECT MAX(trip_distance) AS find_longest_trip_friday FROM yellow_tripdata \\\n",
        "WHERE ( tpep_pickup_datetime BETWEEN '2021-02-05 00:00:00' AND '2021-02-05 23:59:59' ) OR \\\n",
        "( tpep_pickup_datetime BETWEEN '2021-02-12 00:00:00' AND '2021-02-12 23:59:59' ) OR \\\n",
        "( tpep_pickup_datetime BETWEEN '2021-02-19 00:00:00' AND '2021-02-19 23:59:59' ) OR \\\n",
        "( tpep_pickup_datetime BETWEEN '2021-02-26 00:00:00' AND '2021-02-26 23:59:59' )\")\n",
        "find_longest_trip_friday.show()\n",
        "find_longest_trip_friday.printSchema()"
      ],
      "metadata": {
        "colab": {
          "base_uri": "https://localhost:8080/"
        },
        "id": "VPCqZKPgyx_V",
        "outputId": "25f55d9b-64cd-41fa-af2a-504d8486017b"
      },
      "execution_count": null,
      "outputs": [
        {
          "output_type": "stream",
          "name": "stdout",
          "text": [
            "+------------------------+\n",
            "|find_longest_trip_friday|\n",
            "+------------------------+\n",
            "|                91134.16|\n",
            "+------------------------+\n",
            "\n",
            "root\n",
            " |-- find_longest_trip_friday: double (nullable = true)\n",
            "\n"
          ]
        }
      ]
    },
    {
      "cell_type": "code",
      "source": [
        "find_longest_trip_saturday = spark.sql(\"SELECT MAX(trip_distance) AS find_longest_trip_saturday FROM yellow_tripdata \\\n",
        "WHERE ( tpep_pickup_datetime BETWEEN '2021-02-06 00:00:00' AND '2021-02-06 23:59:59' ) OR \\\n",
        "( tpep_pickup_datetime BETWEEN '2021-02-13 00:00:00' AND '2021-02-13 23:59:59' ) OR \\\n",
        "( tpep_pickup_datetime BETWEEN '2021-02-20 00:00:00' AND '2021-02-20 23:59:59' ) OR \\\n",
        "( tpep_pickup_datetime BETWEEN '2021-02-27 00:00:00' AND '2021-02-27 23:59:59' )\")\n",
        "find_longest_trip_saturday.show()\n",
        "find_longest_trip_saturday.printSchema()"
      ],
      "metadata": {
        "colab": {
          "base_uri": "https://localhost:8080/"
        },
        "id": "Ivzp930tzEc8",
        "outputId": "aac25129-3560-41b1-c57e-377b7e990af4"
      },
      "execution_count": null,
      "outputs": [
        {
          "output_type": "stream",
          "name": "stdout",
          "text": [
            "+--------------------------+\n",
            "|find_longest_trip_saturday|\n",
            "+--------------------------+\n",
            "|                 188054.03|\n",
            "+--------------------------+\n",
            "\n",
            "root\n",
            " |-- find_longest_trip_saturday: double (nullable = true)\n",
            "\n"
          ]
        }
      ]
    },
    {
      "cell_type": "code",
      "source": [
        "find_longest_trip_sunday = spark.sql(\"SELECT MAX(trip_distance) AS find_longest_trip_sunday FROM yellow_tripdata \\\n",
        "WHERE ( tpep_pickup_datetime BETWEEN '2021-02-07 00:00:00' AND '2021-02-07 23:59:59' ) OR \\\n",
        "( tpep_pickup_datetime BETWEEN '2021-02-14 00:00:00' AND '2021-02-14 23:59:59' ) OR \\\n",
        "( tpep_pickup_datetime BETWEEN '2021-02-21 00:00:00' AND '2021-02-21 23:59:59' ) OR \\\n",
        "( tpep_pickup_datetime BETWEEN '2021-02-28 00:00:00' AND '2021-02-28 23:59:59' )\")\n",
        "find_longest_trip_sunday.show()\n",
        "find_longest_trip_sunday.printSchema()"
      ],
      "metadata": {
        "colab": {
          "base_uri": "https://localhost:8080/"
        },
        "id": "r1GfOeDGzWCs",
        "outputId": "5d63652f-b930-4047-bf2f-cfe2c8e0bc56"
      },
      "execution_count": null,
      "outputs": [
        {
          "output_type": "stream",
          "name": "stdout",
          "text": [
            "+------------------------+\n",
            "|find_longest_trip_sunday|\n",
            "+------------------------+\n",
            "|               186510.67|\n",
            "+------------------------+\n",
            "\n",
            "root\n",
            " |-- find_longest_trip_sunday: double (nullable = true)\n",
            "\n"
          ]
        }
      ]
    },
    {
      "cell_type": "code",
      "source": [
        "# Find Top 5 Most frequent `dispatching_base_num` ?\n",
        "df3.createOrReplaceTempView(\"fhv_tripdata\")\n",
        "\n",
        "find_most_frequent_dispatching_base_num = spark.sql(\"SELECT dispatching_base_num, COUNT(dispatching_base_num) AS find_most_frequent_dispatching_base_num \\\n",
        "FROM fhv_tripdata \\\n",
        "GROUP BY dispatching_base_num \\\n",
        "ORDER BY COUNT(dispatching_base_num) DESC \\\n",
        "LIMIT 5\")\n",
        "find_most_frequent_dispatching_base_num.show()\n",
        "find_most_frequent_dispatching_base_num.printSchema()"
      ],
      "metadata": {
        "colab": {
          "base_uri": "https://localhost:8080/"
        },
        "id": "JGCtNlQIX09T",
        "outputId": "713dfa5b-dc3e-4a21-e570-1614e5539811"
      },
      "execution_count": null,
      "outputs": [
        {
          "output_type": "stream",
          "name": "stdout",
          "text": [
            "+--------------------+---------------------------------------+\n",
            "|dispatching_base_num|find_most_frequent_dispatching_base_num|\n",
            "+--------------------+---------------------------------------+\n",
            "|              B00856|                                  35077|\n",
            "|              B01312|                                  33089|\n",
            "|              B01145|                                  31114|\n",
            "|              B02794|                                  30397|\n",
            "|              B03016|                                  29794|\n",
            "+--------------------+---------------------------------------+\n",
            "\n",
            "root\n",
            " |-- dispatching_base_num: string (nullable = true)\n",
            " |-- find_most_frequent_dispatching_base_num: long (nullable = false)\n",
            "\n"
          ]
        }
      ]
    },
    {
      "cell_type": "code",
      "source": [
        "# Find Top 5 Most common location pairs (PUlocationID and DOlocationID) ?\n",
        "find_most_common_location_pair = spark.sql(\"SELECT PUlocationID, DOlocationID, COUNT(PUlocationID) AS find_most_common_location_pair \\\n",
        "FROM fhv_tripdata \\\n",
        "WHERE PUlocationID == DOlocationID \\\n",
        "GROUP BY PUlocationID, DOlocationID \\\n",
        "ORDER BY COUNT(PUlocationID) DESC \\\n",
        "LIMIT 5\")\n",
        "find_most_common_location_pair.show()\n",
        "find_most_common_location_pair.printSchema()"
      ],
      "metadata": {
        "colab": {
          "base_uri": "https://localhost:8080/"
        },
        "id": "z8SNC7JqZBg3",
        "outputId": "7abc311f-3e99-41ad-ba71-28844ed141ed"
      },
      "execution_count": 102,
      "outputs": [
        {
          "output_type": "stream",
          "name": "stdout",
          "text": [
            "+------------+------------+------------------------------+\n",
            "|PUlocationID|DOlocationID|find_most_common_location_pair|\n",
            "+------------+------------+------------------------------+\n",
            "|       206.0|       206.0|                          2374|\n",
            "|       129.0|       129.0|                          1902|\n",
            "|         7.0|         7.0|                          1829|\n",
            "|       179.0|       179.0|                          1736|\n",
            "|       221.0|       221.0|                          1562|\n",
            "+------------+------------+------------------------------+\n",
            "\n",
            "root\n",
            " |-- PUlocationID: double (nullable = true)\n",
            " |-- DOlocationID: double (nullable = true)\n",
            " |-- find_most_common_location_pair: long (nullable = false)\n",
            "\n"
          ]
        }
      ]
    },
    {
      "cell_type": "code",
      "source": [
        "# Write all of the result to BigQuery table (additional - point plus)\n",
        "count_yellow_taxi_trip_15_feb.coalesce(1).write.option(\"inferSchema\",\"true\").csv('/content/drive/MyDrive/practical-case-session-6/no1', header='true')"
      ],
      "metadata": {
        "id": "XoE9mv78ZYaV"
      },
      "execution_count": null,
      "outputs": []
    },
    {
      "cell_type": "code",
      "source": [
        "find_longest_trip_monday.coalesce(1).write.option(\"inferSchema\",\"true\").csv('/content/drive/MyDrive/practical-case-session-6/no2-mon', header='true')\n",
        "find_longest_trip_tuesday.coalesce(1).write.option(\"inferSchema\",\"true\").csv('/content/drive/MyDrive/practical-case-session-6/no2-tue', header='true')\n",
        "find_longest_trip_wednesday.coalesce(1).write.option(\"inferSchema\",\"true\").csv('/content/drive/MyDrive/practical-case-session-6/no2-wed', header='true')\n",
        "find_longest_trip_thursday.coalesce(1).write.option(\"inferSchema\",\"true\").csv('/content/drive/MyDrive/practical-case-session-6/no2-thu', header='true')\n",
        "find_longest_trip_friday.coalesce(1).write.option(\"inferSchema\",\"true\").csv('/content/drive/MyDrive/practical-case-session-6/no2-fri', header='true')\n",
        "find_longest_trip_saturday.coalesce(1).write.option(\"inferSchema\",\"true\").csv('/content/drive/MyDrive/practical-case-session-6/no2-sat', header='true')\n",
        "find_longest_trip_sunday.coalesce(1).write.option(\"inferSchema\",\"true\").csv('/content/drive/MyDrive/practical-case-session-6/no2-sun', header='true')"
      ],
      "metadata": {
        "id": "OcQlKbJ4piX2"
      },
      "execution_count": null,
      "outputs": []
    },
    {
      "cell_type": "code",
      "source": [
        "find_most_frequent_dispatching_base_num.coalesce(1).write.option(\"inferSchema\",\"true\").csv('/content/drive/MyDrive/practical-case-session-6/no3', header='true')"
      ],
      "metadata": {
        "id": "xhnLFVSp9o3l"
      },
      "execution_count": null,
      "outputs": []
    },
    {
      "cell_type": "code",
      "source": [
        "find_most_common_location_pair.coalesce(1).write.option(\"inferSchema\",\"true\").csv('/content/drive/MyDrive/practical-case-session-6/nomor4', header='true')"
      ],
      "metadata": {
        "id": "22ZQYSTs9u2O"
      },
      "execution_count": 103,
      "outputs": []
    }
  ]
}